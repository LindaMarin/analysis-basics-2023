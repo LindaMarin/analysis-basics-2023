{
 "cells": [
  {
   "cell_type": "markdown",
   "metadata": {},
   "source": [
    "### Exercise 1"
   ]
  },
  {
   "cell_type": "code",
   "execution_count": 9,
   "metadata": {},
   "outputs": [
    {
     "name": "stdout",
     "output_type": "stream",
     "text": [
      "Try again!\n",
      "You have guessed 1 times.\n",
      "Hint! L\n",
      "Try again!\n",
      "You have guessed 2 times.\n",
      "Hint! Li\n",
      "Congratulations!\n"
     ]
    }
   ],
   "source": [
    "guesses=0\n",
    "count=0\n",
    "hint=''\n",
    "name='Linda'\n",
    "yOrNo=('y')\n",
    "\n",
    "while yOrNo.__eq__('y'):\n",
    "    guesses += 1\n",
    "    guess=input('Guess a name!')\n",
    "    if guess.__eq__(name):\n",
    "        print('Congratulations!')\n",
    "        print('You guessed', guesses,'times.')\n",
    "        break\n",
    "    else: \n",
    "        print('Try again!')\n",
    "    print('You have guessed', guesses,'times.')\n",
    "    count += 1\n",
    "    if count<=(len(name)):\n",
    "        hint+=name[count-1]\n",
    "    print('Hint!',hint)\n",
    "    yOrNo=input('Do you want to play again? y/n')\n",
    "\n",
    "    "
   ]
  },
  {
   "cell_type": "code",
   "execution_count": null,
   "metadata": {},
   "outputs": [],
   "source": []
  }
 ],
 "metadata": {
  "kernelspec": {
   "display_name": "Python 3",
   "language": "python",
   "name": "python3"
  },
  "language_info": {
   "codemirror_mode": {
    "name": "ipython",
    "version": 3
   },
   "file_extension": ".py",
   "mimetype": "text/x-python",
   "name": "python",
   "nbconvert_exporter": "python",
   "pygments_lexer": "ipython3",
   "version": "3.12.0"
  },
  "orig_nbformat": 4
 },
 "nbformat": 4,
 "nbformat_minor": 2
}
