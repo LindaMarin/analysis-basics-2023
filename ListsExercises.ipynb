{
 "cells": [
  {
   "cell_type": "code",
   "execution_count": 91,
   "metadata": {},
   "outputs": [],
   "source": [
    "from random import randint"
   ]
  },
  {
   "cell_type": "markdown",
   "metadata": {},
   "source": [
    "### Excercise 1"
   ]
  },
  {
   "cell_type": "code",
   "execution_count": 92,
   "metadata": {},
   "outputs": [],
   "source": [
    "list=['table', 'chair', 'sofa', 'cabinet', 'bed']"
   ]
  },
  {
   "cell_type": "code",
   "execution_count": 93,
   "metadata": {},
   "outputs": [
    {
     "name": "stdout",
     "output_type": "stream",
     "text": [
      "['table', 'chair', 'sofa', 'cabinet', 'bed']\n"
     ]
    }
   ],
   "source": [
    "print(list)"
   ]
  },
  {
   "cell_type": "code",
   "execution_count": 94,
   "metadata": {},
   "outputs": [
    {
     "name": "stdout",
     "output_type": "stream",
     "text": [
      "['table', 'chair']\n"
     ]
    }
   ],
   "source": [
    "print(list[0:2])"
   ]
  },
  {
   "cell_type": "code",
   "execution_count": 95,
   "metadata": {},
   "outputs": [
    {
     "name": "stdout",
     "output_type": "stream",
     "text": [
      "sofa\n"
     ]
    }
   ],
   "source": [
    "for i in range(len(list)):\n",
    "    if list[i] == 'sofa':\n",
    "        print(list[i])\n"
   ]
  },
  {
   "cell_type": "markdown",
   "metadata": {},
   "source": [
    "### Excercise 2"
   ]
  },
  {
   "cell_type": "code",
   "execution_count": 96,
   "metadata": {},
   "outputs": [],
   "source": [
    "thrownDiceNumber=[]"
   ]
  },
  {
   "cell_type": "code",
   "execution_count": 97,
   "metadata": {},
   "outputs": [
    {
     "name": "stdout",
     "output_type": "stream",
     "text": [
      "5 random numbers in range (1-30) are [8, 12, 5, 7, 5]\n"
     ]
    }
   ],
   "source": [
    "for i in range(5):\n",
    "    i=randint(1,30)\n",
    "    thrownDiceNumber.append(i)\n",
    "print('5 random numbers in range (1-30) are', thrownDiceNumber)"
   ]
  },
  {
   "cell_type": "code",
   "execution_count": 98,
   "metadata": {},
   "outputs": [
    {
     "name": "stdout",
     "output_type": "stream",
     "text": [
      "The sum of numbers [8, 12, 5, 7, 5] is 37\n"
     ]
    }
   ],
   "source": [
    "sum=0\n",
    "for i in range(len(thrownDiceNumber)):\n",
    "    sum += thrownDiceNumber[i]\n",
    "print('The sum of numbers', thrownDiceNumber, 'is', sum)"
   ]
  },
  {
   "cell_type": "code",
   "execution_count": 99,
   "metadata": {},
   "outputs": [
    {
     "name": "stdout",
     "output_type": "stream",
     "text": [
      "The max of numbers [8, 12, 5, 7, 5] is 12\n"
     ]
    }
   ],
   "source": [
    "max=0\n",
    "for i in thrownDiceNumber:\n",
    "    if i>max:\n",
    "        max=i\n",
    "print('The max of numbers', thrownDiceNumber, 'is', max)"
   ]
  },
  {
   "cell_type": "markdown",
   "metadata": {},
   "source": [
    "### Excercise 3"
   ]
  },
  {
   "cell_type": "code",
   "execution_count": 100,
   "metadata": {},
   "outputs": [],
   "source": [
    "randNumList=[]"
   ]
  },
  {
   "cell_type": "code",
   "execution_count": 101,
   "metadata": {},
   "outputs": [
    {
     "name": "stdout",
     "output_type": "stream",
     "text": [
      "5 random unique numbers in range (1-20) are [5, 4, 10, 13, 11]\n"
     ]
    }
   ],
   "source": [
    "while len(randNumList) <5:\n",
    "    i=randint(1,20)\n",
    "    if i not in randNumList:\n",
    "        randNumList.append(i)\n",
    "print('5 random unique numbers in range (1-20) are', randNumList)"
   ]
  }
 ],
 "metadata": {
  "kernelspec": {
   "display_name": "Python 3",
   "language": "python",
   "name": "python3"
  },
  "language_info": {
   "codemirror_mode": {
    "name": "ipython",
    "version": 3
   },
   "file_extension": ".py",
   "mimetype": "text/x-python",
   "name": "python",
   "nbconvert_exporter": "python",
   "pygments_lexer": "ipython3",
   "version": "3.12.0"
  },
  "orig_nbformat": 4
 },
 "nbformat": 4,
 "nbformat_minor": 2
}
