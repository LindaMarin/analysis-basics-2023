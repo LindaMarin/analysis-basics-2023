{
 "cells": [
  {
   "cell_type": "code",
   "execution_count": null,
   "metadata": {},
   "outputs": [],
   "source": [
    "# Import the necessary libraries.\n",
    "import pandas as pd\n",
    "\n",
    "# Import the dataset from local file.\n",
    "# Assign the path to a variable called path and create a dataframe named shopping.\n",
    "path = 'C:\\\\Users\\\\User\\\\Downloads\\\\shopping_behavior_updated.csv'\n",
    "shopping = pd.read_csv(path)"
   ]
  },
  {
   "cell_type": "code",
   "execution_count": null,
   "metadata": {},
   "outputs": [],
   "source": [
    "# Display first 10 rows.\n",
    "shopping.head(10)"
   ]
  },
  {
   "cell_type": "code",
   "execution_count": null,
   "metadata": {},
   "outputs": [],
   "source": [
    "# Provide a summary of information about shopping.csv.\n",
    "shopping.info()"
   ]
  },
  {
   "cell_type": "code",
   "execution_count": null,
   "metadata": {},
   "outputs": [],
   "source": [
    "# Number of rows and columns in the DataFrame.\n",
    "print(shopping.shape)\n",
    "\n",
    "# Number of rows in the dataframe.\n",
    "print(shopping.shape[1])\n",
    "\n",
    "# Display all column names.\n",
    "shopping.columns"
   ]
  },
  {
   "cell_type": "code",
   "execution_count": null,
   "metadata": {},
   "outputs": [],
   "source": [
    "# Return the index labels used in the shopping DataFrame.\n",
    "print(shopping.index)\n",
    "\n",
    "# Values inside the dataset.\n",
    "print(shopping.values)"
   ]
  },
  {
   "cell_type": "code",
   "execution_count": null,
   "metadata": {},
   "outputs": [],
   "source": [
    "# Column data types.\n",
    "column_data_types = shopping.dtypes\n",
    "print(column_data_types)\n",
    "\n",
    "# Get data type of a single column.\n",
    "column_data_type = shopping['Previous Purchases'].dtype\n",
    "print(f\"\\nPrevious purchases data type is {column_data_type}\")"
   ]
  },
  {
   "cell_type": "code",
   "execution_count": null,
   "metadata": {},
   "outputs": [],
   "source": [
    "# Sorting the rows based on Purchase Amount (USD) values.\n",
    "shopping.sort_values(\"Purchase Amount (USD)\")"
   ]
  },
  {
   "cell_type": "code",
   "execution_count": null,
   "metadata": {},
   "outputs": [],
   "source": [
    "# Same in ascending order.\n",
    "shopping.sort_values(\"Purchase Amount (USD)\", ascending=False)"
   ]
  },
  {
   "cell_type": "code",
   "execution_count": null,
   "metadata": {},
   "outputs": [],
   "source": [
    "# Sorting by multiple columns.\n",
    "shopping.sort_values([\"Purchase Amount (USD)\", \"Previous Purchases\"])"
   ]
  },
  {
   "cell_type": "code",
   "execution_count": null,
   "metadata": {},
   "outputs": [],
   "source": [
    "# Same but first column ascending and next in descending order.\n",
    "shopping.sort_values([\"Purchase Amount (USD)\", \"Previous Purchases\"], ascending=[True, False])"
   ]
  },
  {
   "cell_type": "code",
   "execution_count": null,
   "metadata": {},
   "outputs": [],
   "source": [
    "# Selecting a single column\n",
    "subset_shopping = shopping[\"Review Rating\"]\n",
    "print(subset_shopping)"
   ]
  },
  {
   "cell_type": "code",
   "execution_count": null,
   "metadata": {},
   "outputs": [],
   "source": [
    "# selecting multiple columns\n",
    "subset_shopping1 = shopping[[\"Review Rating\", \"Gender\", \"Age\"]]\n",
    "print(subset_shopping1)"
   ]
  },
  {
   "cell_type": "code",
   "execution_count": null,
   "metadata": {},
   "outputs": [],
   "source": [
    "# Getting items whose Purchase Amount is greater than 50.\n",
    "subset_df = shopping[shopping['Purchase Amount (USD)'] > 50]\n",
    "print(subset_df)\n",
    "\n"
   ]
  },
  {
   "cell_type": "code",
   "execution_count": null,
   "metadata": {},
   "outputs": [],
   "source": [
    "# Subsetting based on text data.\n",
    "subset_df = shopping[shopping['Category'] == \"Clothing\"]\n",
    "print(subset_df)"
   ]
  },
  {
   "cell_type": "code",
   "execution_count": null,
   "metadata": {},
   "outputs": [],
   "source": [
    "# subsetting with mulitple conditions\n",
    "subset_df1 = shopping['Purchase Amount (USD)'] > 50\n",
    "subset_df2 = shopping['Category'] == \"Clothing\"\n",
    "subset_df3 = shopping[subset_df1 & subset_df2]\n",
    "subset_df3.head()"
   ]
  },
  {
   "cell_type": "code",
   "execution_count": null,
   "metadata": {},
   "outputs": [],
   "source": [
    "# Checking the datatype of a column.\n",
    "print(shopping['Purchase Amount (USD)'].dtype)"
   ]
  },
  {
   "cell_type": "code",
   "execution_count": null,
   "metadata": {},
   "outputs": [],
   "source": [
    "# For testing purposes, lets assign the column a dtype float.\n",
    "shopping['Purchase Amount (USD)'] = shopping['Purchase Amount (USD)'].astype(float)\n",
    "# Check to see the change.\n",
    "print(shopping['Purchase Amount (USD)'].dtype)"
   ]
  },
  {
   "cell_type": "code",
   "execution_count": null,
   "metadata": {},
   "outputs": [],
   "source": [
    "# Now lets make a new column 'Total' and assign multiplied values of 'Previous Purchases' and 'Purchase Amount (USD)' to it.\n",
    "shopping['Total'] = shopping['Previous Purchases'] * shopping['Purchase Amount (USD)']\n",
    "\n",
    "# Check to see the new column.\n",
    "shopping.head(20)"
   ]
  },
  {
   "cell_type": "code",
   "execution_count": null,
   "metadata": {},
   "outputs": [],
   "source": [
    "# first lets create a function to define the price ranges\n",
    "def categorize_price(Purchase_Amount):\n",
    "    if Purchase_Amount < 40:\n",
    "        return 'Low'\n",
    "    elif Purchase_Amount < 70:\n",
    "        return 'Medium'\n",
    "    else:\n",
    "        return 'High'\n",
    "# We can use the .apply() method to create a new column 'price_group' based on the ''Purchase Amount (USD)'' column.\n",
    "shopping['price_group'] = shopping['Purchase Amount (USD)'].apply(categorize_price)\n",
    "shopping.head()"
   ]
  }
 ],
 "metadata": {
  "kernelspec": {
   "display_name": "Python 3",
   "language": "python",
   "name": "python3"
  },
  "language_info": {
   "codemirror_mode": {
    "name": "ipython",
    "version": 3
   },
   "file_extension": ".py",
   "mimetype": "text/x-python",
   "name": "python",
   "nbconvert_exporter": "python",
   "pygments_lexer": "ipython3",
   "version": "3.12.0"
  },
  "orig_nbformat": 4
 },
 "nbformat": 4,
 "nbformat_minor": 2
}
