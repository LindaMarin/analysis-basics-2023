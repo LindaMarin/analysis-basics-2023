{
 "cells": [
  {
   "cell_type": "code",
   "execution_count": 15,
   "metadata": {},
   "outputs": [],
   "source": [
    "number1=5; number2=7; number3=10"
   ]
  },
  {
   "cell_type": "code",
   "execution_count": 16,
   "metadata": {},
   "outputs": [],
   "source": [
    "name1=\"Linda\"; name2=\"Sawsan\"; name3=\"Rosa\""
   ]
  },
  {
   "cell_type": "markdown",
   "metadata": {},
   "source": [
    "### TASK 1"
   ]
  },
  {
   "cell_type": "code",
   "execution_count": 17,
   "metadata": {},
   "outputs": [
    {
     "name": "stdout",
     "output_type": "stream",
     "text": [
      "number1 is NOT equal to number2\n"
     ]
    }
   ],
   "source": [
    "if number1==number2:\n",
    "    print('number 1 and number 2 are equal')\n",
    "elif number1>number2:\n",
    "    print('number1 is greater than number2')\n",
    "elif number1>number2 | number1==number2:\n",
    "    print('number1 is greater or equal to number2')\n",
    "elif not number1==number2:\n",
    "    print('number1 is NOT equal to number2')"
   ]
  },
  {
   "cell_type": "markdown",
   "metadata": {},
   "source": [
    "### TASK 2"
   ]
  },
  {
   "cell_type": "code",
   "execution_count": 18,
   "metadata": {},
   "outputs": [],
   "source": [
    "if number1==number2==number3:\n",
    "    print('all numbers are equal')\n",
    "elif number1==number2 | number2==number3:\n",
    "    print('number1 and number2 are equal OR number2 and number3 are equal')\n",
    "elif number1>number2 & number1>number3:\n",
    "    print('number1 is greater than number2 AND number1 is greater than number3')\n",
    "elif number1>number2:\n",
    "    print('number1 is qreater than number2')\n",
    "elif number2>number3:\n",
    "    print('number2 is greater than number3')\n",
    "elif number1==number2:\n",
    "    print('number1 is equal to number2')\n",
    "elif number1==number3:\n",
    "    print('number1 is equal to number3')"
   ]
  },
  {
   "cell_type": "markdown",
   "metadata": {},
   "source": [
    "### TASK 3"
   ]
  },
  {
   "cell_type": "code",
   "execution_count": 19,
   "metadata": {},
   "outputs": [
    {
     "name": "stdout",
     "output_type": "stream",
     "text": [
      "name1 and name2 are not equal\n"
     ]
    }
   ],
   "source": [
    "if name1==name2:\n",
    "    print ('name1 and name2 are equal')\n",
    "elif not name1==name2:\n",
    "    print ('name1 and name2 are not equal')\n",
    "elif name1==name3:\n",
    "    print ('name2 and name3 are equal')"
   ]
  }
 ],
 "metadata": {
  "kernelspec": {
   "display_name": "Python 3",
   "language": "python",
   "name": "python3"
  },
  "language_info": {
   "codemirror_mode": {
    "name": "ipython",
    "version": 3
   },
   "file_extension": ".py",
   "mimetype": "text/x-python",
   "name": "python",
   "nbconvert_exporter": "python",
   "pygments_lexer": "ipython3",
   "version": "3.12.0"
  },
  "orig_nbformat": 4
 },
 "nbformat": 4,
 "nbformat_minor": 2
}
